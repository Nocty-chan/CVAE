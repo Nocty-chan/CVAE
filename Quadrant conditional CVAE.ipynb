{
 "cells": [
  {
   "cell_type": "code",
   "execution_count": 1,
   "metadata": {},
   "outputs": [],
   "source": [
    "%matplotlib inline\n",
    "%load_ext autoreload\n",
    "%autoreload 2"
   ]
  },
  {
   "cell_type": "code",
   "execution_count": 2,
   "metadata": {},
   "outputs": [],
   "source": [
    "import numpy as np\n",
    "import matplotlib.pyplot as plt\n",
    "import tensorflow as tf\n",
    "import tf_lib \n",
    "from CVAE import cvae_trainer, models"
   ]
  },
  {
   "cell_type": "code",
   "execution_count": 3,
   "metadata": {},
   "outputs": [],
   "source": [
    "def preproc(x):\n",
    "    return x > 0"
   ]
  },
  {
   "cell_type": "code",
   "execution_count": 4,
   "metadata": {},
   "outputs": [],
   "source": [
    "hparams = tf.contrib.training.HParams(\n",
    "    num_val=None,\n",
    "    num_labels=None,\n",
    "    batch_size=64,\n",
    "    latent_dim=200,\n",
    "    debug=True,\n",
    "    log_dir='logs',\n",
    "    experiment_name='test_quadrant',\n",
    "    condition_size=(28, 28),\n",
    "    target_size=(28, 28),\n",
    "    num_hidden=1000,\n",
    "    epochs=20,\n",
    "    lr=1e-3,\n",
    "    log_freq=20,\n",
    "    preproc=preproc,\n",
    ")"
   ]
  },
  {
   "cell_type": "code",
   "execution_count": 5,
   "metadata": {},
   "outputs": [
    {
     "name": "stdout",
     "output_type": "stream",
     "text": [
      "[*] Created dataset: train: 60000 (60000.0 labeled), val: 10000, test: 10000\n"
     ]
    }
   ],
   "source": [
    "train_data, val_data, test_data = tf_lib.loaders.load_mnist(**hparams.values())"
   ]
  },
  {
   "cell_type": "code",
   "execution_count": 6,
   "metadata": {},
   "outputs": [
    {
     "data": {
      "text/plain": [
       "<matplotlib.image.AxesImage at 0x1c36c0ef98>"
      ]
     },
     "execution_count": 6,
     "metadata": {},
     "output_type": "execute_result"
    },
    {
     "data": {
      "image/png": "[encoded data removed]",
      "text/plain": [
       "<Figure size 432x288 with 1 Axes>"
      ]
     },
     "metadata": {
      "needs_background": "light"
     },
     "output_type": "display_data"
    }
   ],
   "source": [
    "image = tf_lib.utils.visualize_images(train_data[0][:64] * 255)\n",
    "plt.imshow(image)"
   ]
  },
  {
   "cell_type": "code",
   "execution_count": 8,
   "metadata": {},
   "outputs": [
    {
     "data": {
      "text/plain": [
       "<matplotlib.image.AxesImage at 0x1c36e186d8>"
      ]
     },
     "execution_count": 8,
     "metadata": {},
     "output_type": "execute_result"
    },
    {
     "data": {
      "image/png": "[encoded data removed]",
      "text/plain": [
       "<Figure size 432x288 with 1 Axes>"
      ]
     },
     "metadata": {
      "needs_background": "light"
     },
     "output_type": "display_data"
    }
   ],
   "source": [
    "quadrants = cvae_trainer.quadrant_tl(train_data[0][:64]) * 255\n",
    "quadrants = tf_lib.utils.visualize_images(quadrants)\n",
    "plt.imshow(quadrants)"
   ]
  },
  {
   "cell_type": "code",
   "execution_count": 9,
   "metadata": {},
   "outputs": [
    {
     "name": "stderr",
     "output_type": "stream",
     "text": [
      "WARNING: Logging before flag parsing goes to stderr.\n",
      "W0818 17:25:01.179708 4484036032 deprecation.py:506] From /Users/laetitia/.pyenv/versions/anaconda3-5.3.1/lib/python3.7/site-packages/tensorflow/python/ops/init_ops.py:1251: calling VarianceScaling.__init__ (from tensorflow.python.ops.init_ops) with dtype is deprecated and will be removed in a future version.\n",
      "Instructions for updating:\n",
      "Call initializer instance with the dtype argument instead of passing it to the constructor\n"
     ]
    }
   ],
   "source": [
    "model = {\n",
    "    'prior_net': models.PriorNetwork(hparams),\n",
    "    'posterior_net': models.PosteriorNetwork(hparams),\n",
    "    'generator_net': models.GenerationNetwork(hparams),\n",
    "}"
   ]
  },
  {
   "cell_type": "code",
   "execution_count": 10,
   "metadata": {},
   "outputs": [
    {
     "name": "stdout",
     "output_type": "stream",
     "text": [
      "[*] Created dataset: train: 60000 (60000.0 labeled), val: 10000, test: 10000\n"
     ]
    },
    {
     "name": "stderr",
     "output_type": "stream",
     "text": [
      "W0818 17:25:38.966485 4484036032 deprecation.py:323] From /Users/laetitia/.pyenv/versions/anaconda3-5.3.1/lib/python3.7/site-packages/tensorflow/python/ops/math_grad.py:1205: add_dispatch_support.<locals>.wrapper (from tensorflow.python.ops.array_ops) is deprecated and will be removed in a future version.\n",
      "Instructions for updating:\n",
      "Use tf.where in 2.0, which has the same broadcast rule as np.where\n"
     ]
    }
   ],
   "source": [
    "session = tf.Session()\n",
    "trainer = cvae_trainer.CVAE(session, model, hparams, tf_lib.loaders.load_mnist, lambda d: cvae_trainer.quadrant_tl(d[0]))"
   ]
  },
  {
   "cell_type": "code",
   "execution_count": 11,
   "metadata": {},
   "outputs": [
    {
     "name": "stderr",
     "output_type": "stream",
     "text": [
      "W0818 17:25:46.093322 4484036032 deprecation_wrapper.py:119] From /Users/laetitia/workspace/CVAE/tf_lib/trainer.py:54: The name tf.summary.FileWriter is deprecated. Please use tf.compat.v1.summary.FileWriter instead.\n",
      "\n",
      "W0818 17:25:46.669471 4484036032 deprecation_wrapper.py:119] From /Users/laetitia/workspace/CVAE/tf_lib/trainer.py:111: The name tf.global_variables is deprecated. Please use tf.compat.v1.global_variables instead.\n",
      "\n",
      "W0818 17:25:46.680350 4484036032 deprecation_wrapper.py:119] From /Users/laetitia/workspace/CVAE/tf_lib/trainer.py:112: The name tf.train.Saver is deprecated. Please use tf.compat.v1.train.Saver instead.\n",
      "\n",
      "  0%|          | 0/938 [00:00<?, ?it/s]"
     ]
    },
    {
     "name": "stdout",
     "output_type": "stream",
     "text": [
      " [*] Reading checkpoints from logs/test_quadrant\n",
      "Loading and saving variables ... \n",
      "---------\n",
      "Variables: name (type shape) [size]\n",
      "---------\n",
      "prior_network/dense/kernel:0 (float32 784x1000) [784000, bytes: 3136000]\n",
      "prior_network/dense/bias:0 (float32 1000) [1000, bytes: 4000]\n",
      "prior_network/dense_1/kernel:0 (float32 1000x1000) [1000000, bytes: 4000000]\n",
      "prior_network/dense_1/bias:0 (float32 1000) [1000, bytes: 4000]\n",
      "prior_network/dense_2/kernel:0 (float32 1000x200) [200000, bytes: 800000]\n",
      "prior_network/dense_2/bias:0 (float32 200) [200, bytes: 800]\n",
      "prior_network/dense_3/kernel:0 (float32 1000x200) [200000, bytes: 800000]\n",
      "prior_network/dense_3/bias:0 (float32 200) [200, bytes: 800]\n",
      "posterior_network/dense_4/kernel:0 (float32 1568x1000) [1568000, bytes: 6272000]\n",
      "posterior_network/dense_4/bias:0 (float32 1000) [1000, bytes: 4000]\n",
      "posterior_network/dense_5/kernel:0 (float32 1000x1000) [1000000, bytes: 4000000]\n",
      "posterior_network/dense_5/bias:0 (float32 1000) [1000, bytes: 4000]\n",
      "posterior_network/dense_6/kernel:0 (float32 1000x200) [200000, bytes: 800000]\n",
      "posterior_network/dense_6/bias:0 (float32 200) [200, bytes: 800]\n",
      "posterior_network/dense_7/kernel:0 (float32 1000x200) [200000, bytes: 800000]\n",
      "posterior_network/dense_7/bias:0 (float32 200) [200, bytes: 800]\n",
      "generation_network/dense_8/kernel:0 (float32 984x1000) [984000, bytes: 3936000]\n",
      "generation_network/dense_8/bias:0 (float32 1000) [1000, bytes: 4000]\n",
      "generation_network/dense_9/kernel:0 (float32 1000x1000) [1000000, bytes: 4000000]\n",
      "generation_network/dense_9/bias:0 (float32 1000) [1000, bytes: 4000]\n",
      "generation_network/dense_10/kernel:0 (float32 1000x784) [784000, bytes: 3136000]\n",
      "generation_network/dense_10/bias:0 (float32 784) [784, bytes: 3136]\n",
      "beta1_power:0 (float32 ) [1, bytes: 4]\n",
      "beta2_power:0 (float32 ) [1, bytes: 4]\n",
      "prior_network/dense/kernel/Adam:0 (float32 784x1000) [784000, bytes: 3136000]\n",
      "prior_network/dense/kernel/Adam_1:0 (float32 784x1000) [784000, bytes: 3136000]\n",
      "prior_network/dense/bias/Adam:0 (float32 1000) [1000, bytes: 4000]\n",
      "prior_network/dense/bias/Adam_1:0 (float32 1000) [1000, bytes: 4000]\n",
      "prior_network/dense_1/kernel/Adam:0 (float32 1000x1000) [1000000, bytes: 4000000]\n",
      "prior_network/dense_1/kernel/Adam_1:0 (float32 1000x1000) [1000000, bytes: 4000000]\n",
      "prior_network/dense_1/bias/Adam:0 (float32 1000) [1000, bytes: 4000]\n",
      "prior_network/dense_1/bias/Adam_1:0 (float32 1000) [1000, bytes: 4000]\n",
      "prior_network/dense_2/kernel/Adam:0 (float32 1000x200) [200000, bytes: 800000]\n",
      "prior_network/dense_2/kernel/Adam_1:0 (float32 1000x200) [200000, bytes: 800000]\n",
      "prior_network/dense_2/bias/Adam:0 (float32 200) [200, bytes: 800]\n",
      "prior_network/dense_2/bias/Adam_1:0 (float32 200) [200, bytes: 800]\n",
      "prior_network/dense_3/kernel/Adam:0 (float32 1000x200) [200000, bytes: 800000]\n",
      "prior_network/dense_3/kernel/Adam_1:0 (float32 1000x200) [200000, bytes: 800000]\n",
      "prior_network/dense_3/bias/Adam:0 (float32 200) [200, bytes: 800]\n",
      "prior_network/dense_3/bias/Adam_1:0 (float32 200) [200, bytes: 800]\n",
      "posterior_network/dense_4/kernel/Adam:0 (float32 1568x1000) [1568000, bytes: 6272000]\n",
      "posterior_network/dense_4/kernel/Adam_1:0 (float32 1568x1000) [1568000, bytes: 6272000]\n",
      "posterior_network/dense_4/bias/Adam:0 (float32 1000) [1000, bytes: 4000]\n",
      "posterior_network/dense_4/bias/Adam_1:0 (float32 1000) [1000, bytes: 4000]\n",
      "posterior_network/dense_5/kernel/Adam:0 (float32 1000x1000) [1000000, bytes: 4000000]\n",
      "posterior_network/dense_5/kernel/Adam_1:0 (float32 1000x1000) [1000000, bytes: 4000000]\n",
      "posterior_network/dense_5/bias/Adam:0 (float32 1000) [1000, bytes: 4000]\n",
      "posterior_network/dense_5/bias/Adam_1:0 (float32 1000) [1000, bytes: 4000]\n",
      "posterior_network/dense_6/kernel/Adam:0 (float32 1000x200) [200000, bytes: 800000]\n",
      "posterior_network/dense_6/kernel/Adam_1:0 (float32 1000x200) [200000, bytes: 800000]\n",
      "posterior_network/dense_6/bias/Adam:0 (float32 200) [200, bytes: 800]\n",
      "posterior_network/dense_6/bias/Adam_1:0 (float32 200) [200, bytes: 800]\n",
      "posterior_network/dense_7/kernel/Adam:0 (float32 1000x200) [200000, bytes: 800000]\n",
      "posterior_network/dense_7/kernel/Adam_1:0 (float32 1000x200) [200000, bytes: 800000]\n",
      "posterior_network/dense_7/bias/Adam:0 (float32 200) [200, bytes: 800]\n",
      "posterior_network/dense_7/bias/Adam_1:0 (float32 200) [200, bytes: 800]\n",
      "generation_network/dense_8/kernel/Adam:0 (float32 984x1000) [984000, bytes: 3936000]\n",
      "generation_network/dense_8/kernel/Adam_1:0 (float32 984x1000) [984000, bytes: 3936000]\n",
      "generation_network/dense_8/bias/Adam:0 (float32 1000) [1000, bytes: 4000]\n",
      "generation_network/dense_8/bias/Adam_1:0 (float32 1000) [1000, bytes: 4000]\n",
      "generation_network/dense_9/kernel/Adam:0 (float32 1000x1000) [1000000, bytes: 4000000]\n",
      "generation_network/dense_9/kernel/Adam_1:0 (float32 1000x1000) [1000000, bytes: 4000000]\n",
      "generation_network/dense_9/bias/Adam:0 (float32 1000) [1000, bytes: 4000]\n",
      "generation_network/dense_9/bias/Adam_1:0 (float32 1000) [1000, bytes: 4000]\n",
      "generation_network/dense_10/kernel/Adam:0 (float32 1000x784) [784000, bytes: 3136000]\n",
      "generation_network/dense_10/kernel/Adam_1:0 (float32 1000x784) [784000, bytes: 3136000]\n",
      "generation_network/dense_10/bias/Adam:0 (float32 784) [784, bytes: 3136]\n",
      "generation_network/dense_10/bias/Adam_1:0 (float32 784) [784, bytes: 3136]\n",
      "Total size of variables: 23782754\n",
      "Total bytes of variables: 95131016\n",
      " [*] Failed to find a checkpoint\n"
     ]
    },
    {
     "name": "stderr",
     "output_type": "stream",
     "text": [
      "100%|██████████| 938/938 [00:31<00:00, 29.91it/s, kl=11.7, loss=90.3, nll=78.6]\n"
     ]
    },
    {
     "name": "stdout",
     "output_type": "stream",
     "text": [
      "[*] Epoch 1/20 completed\n"
     ]
    },
    {
     "name": "stderr",
     "output_type": "stream",
     "text": [
      "  0%|          | 4/938 [00:00<00:31, 29.20it/s, kl=13.8, loss=91.9, nll=78.1]"
     ]
    },
    {
     "name": "stdout",
     "output_type": "stream",
     "text": [
      "[*] Evaluated Loss:91.08694594073448, KL:12.90184539746327, NLL: 78.18510082269171\n",
      "[*] Posterior Mu 0.004256922751665115, Logv -0.7117611169815063\n",
      "[*] Prior Mu 0.005727725103497505, Logv -0.5930813550949097\n"
     ]
    },
    {
     "name": "stderr",
     "output_type": "stream",
     "text": [
      "100%|██████████| 938/938 [00:35<00:00, 26.61it/s, kl=13.5, loss=84.5, nll=71]  \n"
     ]
    },
    {
     "name": "stdout",
     "output_type": "stream",
     "text": [
      "[*] Epoch 2/20 completed\n"
     ]
    },
    {
     "name": "stderr",
     "output_type": "stream",
     "text": [
      "  1%|          | 5/938 [00:00<00:32, 28.36it/s, kl=14.7, loss=78.7, nll=64]  "
     ]
    },
    {
     "name": "stdout",
     "output_type": "stream",
     "text": [
      "[*] Evaluated Loss:78.03588735981351, KL:13.379686203731852, NLL: 64.65620111356115\n",
      "[*] Posterior Mu -0.0026981609407812357, Logv -1.001844882965088\n",
      "[*] Prior Mu 0.00790631864219904, Logv -0.8610973358154297\n"
     ]
    },
    {
     "name": "stderr",
     "output_type": "stream",
     "text": [
      "100%|██████████| 938/938 [00:34<00:00, 26.96it/s, kl=14.3, loss=72.3, nll=57.9]\n"
     ]
    },
    {
     "name": "stdout",
     "output_type": "stream",
     "text": [
      "[*] Epoch 3/20 completed\n"
     ]
    },
    {
     "name": "stderr",
     "output_type": "stream",
     "text": [
      "  1%|          | 5/938 [00:00<00:33, 27.61it/s, kl=14.5, loss=71, nll=56.5]  "
     ]
    },
    {
     "name": "stdout",
     "output_type": "stream",
     "text": [
      "[*] Evaluated Loss:70.59638041599541, KL:14.518420832931616, NLL: 56.07795934008944\n",
      "[*] Posterior Mu 0.0022091595456004143, Logv -1.272233486175537\n",
      "[*] Prior Mu 0.00015083588368725032, Logv -1.1292519569396973\n"
     ]
    },
    {
     "name": "stderr",
     "output_type": "stream",
     "text": [
      "100%|██████████| 938/938 [00:34<00:00, 27.57it/s, kl=15.1, loss=62.4, nll=47.3]\n"
     ]
    },
    {
     "name": "stdout",
     "output_type": "stream",
     "text": [
      "[*] Epoch 4/20 completed\n"
     ]
    },
    {
     "name": "stderr",
     "output_type": "stream",
     "text": [
      "  1%|          | 5/938 [00:00<00:30, 30.62it/s, kl=14.1, loss=56.7, nll=42.6]"
     ]
    },
    {
     "name": "stdout",
     "output_type": "stream",
     "text": [
      "[*] Evaluated Loss:66.85434732619365, KL:15.10790640837068, NLL: 51.74644113042552\n",
      "[*] Posterior Mu 0.0044497097842395306, Logv -1.4823083877563477\n",
      "[*] Prior Mu -0.00039297074545174837, Logv -1.3232377767562866\n"
     ]
    },
    {
     "name": "stderr",
     "output_type": "stream",
     "text": [
      "100%|██████████| 938/938 [00:33<00:00, 27.68it/s, kl=16.2, loss=64.5, nll=48.2]\n"
     ]
    },
    {
     "name": "stdout",
     "output_type": "stream",
     "text": [
      "[*] Epoch 5/20 completed\n"
     ]
    },
    {
     "name": "stderr",
     "output_type": "stream",
     "text": [
      "  1%|          | 5/938 [00:00<00:33, 28.12it/s, kl=15.6, loss=63.5, nll=47.9]"
     ]
    },
    {
     "name": "stdout",
     "output_type": "stream",
     "text": [
      "[*] Evaluated Loss:65.58481629487056, KL:15.548101151824756, NLL: 50.0367153192022\n",
      "[*] Posterior Mu 0.017414484173059464, Logv -1.6756097078323364\n",
      "[*] Prior Mu 0.012623771093785763, Logv -1.4999890327453613\n"
     ]
    },
    {
     "name": "stderr",
     "output_type": "stream",
     "text": [
      "100%|██████████| 938/938 [00:38<00:00, 25.54it/s, kl=16.6, loss=65.5, nll=48.9]\n"
     ]
    },
    {
     "name": "stdout",
     "output_type": "stream",
     "text": [
      "[*] Epoch 6/20 completed\n"
     ]
    },
    {
     "name": "stderr",
     "output_type": "stream",
     "text": [
      "  0%|          | 4/938 [00:00<00:38, 24.24it/s, kl=16.5, loss=65.2, nll=48.8]"
     ]
    },
    {
     "name": "stdout",
     "output_type": "stream",
     "text": [
      "[*] Evaluated Loss:64.27704685964402, KL:15.710336691255023, NLL: 48.566709724960816\n",
      "[*] Posterior Mu 0.01741687022149563, Logv -1.8414534330368042\n",
      "[*] Prior Mu 0.012429890222847462, Logv -1.676824927330017\n"
     ]
    },
    {
     "name": "stderr",
     "output_type": "stream",
     "text": [
      "100%|██████████| 938/938 [00:35<00:00, 26.35it/s, kl=16.2, loss=65.3, nll=49]  \n"
     ]
    },
    {
     "name": "stdout",
     "output_type": "stream",
     "text": [
      "[*] Epoch 7/20 completed\n"
     ]
    },
    {
     "name": "stderr",
     "output_type": "stream",
     "text": [
      "  1%|          | 5/938 [00:00<00:34, 27.32it/s, kl=15.5, loss=59.2, nll=43.7]"
     ]
    },
    {
     "name": "stdout",
     "output_type": "stream",
     "text": [
      "[*] Evaluated Loss:63.415543671626196, KL:16.012682775023638, NLL: 47.402860726520515\n",
      "[*] Posterior Mu 0.007543012499809265, Logv -1.9594132900238037\n",
      "[*] Prior Mu 0.007785037625581026, Logv -1.7979955673217773\n"
     ]
    },
    {
     "name": "stderr",
     "output_type": "stream",
     "text": [
      "100%|██████████| 938/938 [00:35<00:00, 26.69it/s, kl=16.7, loss=61.1, nll=44.4]\n"
     ]
    },
    {
     "name": "stdout",
     "output_type": "stream",
     "text": [
      "[*] Epoch 8/20 completed\n"
     ]
    },
    {
     "name": "stderr",
     "output_type": "stream",
     "text": [
      "  0%|          | 4/938 [00:00<00:41, 22.70it/s, kl=16.3, loss=60.7, nll=44.4]"
     ]
    },
    {
     "name": "stdout",
     "output_type": "stream",
     "text": [
      "[*] Evaluated Loss:62.935003341383236, KL:16.10487501788291, NLL: 46.830128493582365\n",
      "[*] Posterior Mu 0.012269387021660805, Logv -2.1080446243286133\n",
      "[*] Prior Mu 0.010036936029791832, Logv -1.9242579936981201\n"
     ]
    },
    {
     "name": "stderr",
     "output_type": "stream",
     "text": [
      "100%|██████████| 938/938 [00:35<00:00, 26.08it/s, kl=16.2, loss=64.2, nll=47.9]\n"
     ]
    },
    {
     "name": "stdout",
     "output_type": "stream",
     "text": [
      "[*] Epoch 9/20 completed\n"
     ]
    },
    {
     "name": "stderr",
     "output_type": "stream",
     "text": [
      "  1%|          | 5/938 [00:00<00:33, 28.19it/s, kl=15.8, loss=55.1, nll=39.3]"
     ]
    },
    {
     "name": "stdout",
     "output_type": "stream",
     "text": [
      "[*] Evaluated Loss:62.30296605104094, KL:16.332661810953905, NLL: 45.970304063930634\n",
      "[*] Posterior Mu 0.002246853429824114, Logv -2.186336040496826\n",
      "[*] Prior Mu 0.0021629224065691233, Logv -2.0351407527923584\n"
     ]
    },
    {
     "name": "stderr",
     "output_type": "stream",
     "text": [
      "100%|██████████| 938/938 [00:34<00:00, 25.00it/s, kl=16.7, loss=63.7, nll=47]  \n"
     ]
    },
    {
     "name": "stdout",
     "output_type": "stream",
     "text": [
      "[*] Epoch 10/20 completed\n"
     ]
    },
    {
     "name": "stderr",
     "output_type": "stream",
     "text": [
      "  1%|          | 5/938 [00:00<00:33, 27.45it/s, kl=15.6, loss=57.7, nll=42.2]"
     ]
    },
    {
     "name": "stdout",
     "output_type": "stream",
     "text": [
      "[*] Evaluated Loss:62.282652375045096, KL:16.306223377300675, NLL: 45.97642922857005\n",
      "[*] Posterior Mu 0.010457117110490799, Logv -2.329148530960083\n",
      "[*] Prior Mu 0.0030738753266632557, Logv -2.153029203414917\n"
     ]
    },
    {
     "name": "stderr",
     "output_type": "stream",
     "text": [
      "100%|██████████| 938/938 [00:33<00:00, 27.65it/s, kl=17.6, loss=64.4, nll=46.8]\n"
     ]
    },
    {
     "name": "stdout",
     "output_type": "stream",
     "text": [
      "[*] Epoch 11/20 completed\n"
     ]
    },
    {
     "name": "stderr",
     "output_type": "stream",
     "text": [
      "  1%|          | 5/938 [00:00<00:35, 26.48it/s, kl=16.3, loss=56.1, nll=39.8]"
     ]
    },
    {
     "name": "stdout",
     "output_type": "stream",
     "text": [
      "[*] Evaluated Loss:61.88320291118257, KL:17.02048256139087, NLL: 44.86272031941991\n",
      "[*] Posterior Mu 0.02679147571325302, Logv -2.4104316234588623\n",
      "[*] Prior Mu 0.010527770966291428, Logv -2.2377572059631348\n"
     ]
    },
    {
     "name": "stderr",
     "output_type": "stream",
     "text": [
      "100%|██████████| 938/938 [00:37<00:00, 25.11it/s, kl=18.8, loss=67.5, nll=48.7]\n"
     ]
    },
    {
     "name": "stdout",
     "output_type": "stream",
     "text": [
      "[*] Epoch 12/20 completed\n"
     ]
    },
    {
     "name": "stderr",
     "output_type": "stream",
     "text": [
      "  1%|          | 5/938 [00:00<00:35, 26.50it/s, kl=16.3, loss=52.3, nll=36]  "
     ]
    },
    {
     "name": "stdout",
     "output_type": "stream",
     "text": [
      "[*] Evaluated Loss:61.41457099671577, KL:16.851339121533048, NLL: 44.56323196022374\n",
      "[*] Posterior Mu 0.013603129424154758, Logv -2.531996965408325\n",
      "[*] Prior Mu 0.011295126751065254, Logv -2.3642101287841797\n"
     ]
    },
    {
     "name": "stderr",
     "output_type": "stream",
     "text": [
      "100%|██████████| 938/938 [00:38<00:00, 26.68it/s, kl=16, loss=55.6, nll=39.6]  \n"
     ]
    },
    {
     "name": "stdout",
     "output_type": "stream",
     "text": [
      "[*] Epoch 13/20 completed\n"
     ]
    },
    {
     "name": "stderr",
     "output_type": "stream",
     "text": [
      "  1%|          | 5/938 [00:00<00:32, 28.78it/s, kl=15.9, loss=53.7, nll=37.8]"
     ]
    },
    {
     "name": "stdout",
     "output_type": "stream",
     "text": [
      "[*] Evaluated Loss:61.4908758515765, KL:16.958470247353716, NLL: 44.53240568318944\n",
      "[*] Posterior Mu -0.0016011956613510847, Logv -2.5840232372283936\n",
      "[*] Prior Mu 0.002739598508924246, Logv -2.4205188751220703\n"
     ]
    },
    {
     "name": "stderr",
     "output_type": "stream",
     "text": [
      "100%|██████████| 938/938 [00:39<00:00, 23.58it/s, kl=15.8, loss=53.3, nll=37.5]\n"
     ]
    },
    {
     "name": "stdout",
     "output_type": "stream",
     "text": [
      "[*] Epoch 14/20 completed\n"
     ]
    },
    {
     "name": "stderr",
     "output_type": "stream",
     "text": [
      "  1%|          | 5/938 [00:00<00:35, 26.02it/s, kl=15.6, loss=50.7, nll=35.1]"
     ]
    },
    {
     "name": "stdout",
     "output_type": "stream",
     "text": [
      "[*] Evaluated Loss:61.39685867698329, KL:16.963009008176765, NLL: 44.43384955339371\n",
      "[*] Posterior Mu 0.01087501272559166, Logv -2.5936670303344727\n",
      "[*] Prior Mu 0.011322512291371822, Logv -2.456517219543457\n"
     ]
    },
    {
     "name": "stderr",
     "output_type": "stream",
     "text": [
      "100%|██████████| 938/938 [00:37<00:00, 24.76it/s, kl=15.7, loss=54, nll=38.3]  \n"
     ]
    },
    {
     "name": "stdout",
     "output_type": "stream",
     "text": [
      "[*] Epoch 15/20 completed\n"
     ]
    },
    {
     "name": "stderr",
     "output_type": "stream",
     "text": [
      "  0%|          | 4/938 [00:00<00:37, 24.60it/s, kl=15.5, loss=53.4, nll=37.9]"
     ]
    },
    {
     "name": "stdout",
     "output_type": "stream",
     "text": [
      "[*] Evaluated Loss:61.12133414882004, KL:16.86524574619949, NLL: 44.25608852410772\n",
      "[*] Posterior Mu -0.0058570909313857555, Logv -2.651052236557007\n",
      "[*] Prior Mu -0.006027914118021727, Logv -2.494235038757324\n"
     ]
    },
    {
     "name": "stderr",
     "output_type": "stream",
     "text": [
      "100%|██████████| 938/938 [00:36<00:00, 25.42it/s, kl=17.7, loss=61.1, nll=43.4]\n"
     ]
    },
    {
     "name": "stdout",
     "output_type": "stream",
     "text": [
      "[*] Epoch 16/20 completed\n"
     ]
    },
    {
     "name": "stderr",
     "output_type": "stream",
     "text": [
      "  1%|          | 5/938 [00:00<00:32, 28.68it/s, kl=15.8, loss=54.3, nll=38.5]"
     ]
    },
    {
     "name": "stdout",
     "output_type": "stream",
     "text": [
      "[*] Evaluated Loss:61.22611984933258, KL:17.17064782768298, NLL: 44.05547238003676\n",
      "[*] Posterior Mu 0.010198052041232586, Logv -2.8039519786834717\n",
      "[*] Prior Mu 0.007529934868216515, Logv -2.6253185272216797\n"
     ]
    },
    {
     "name": "stderr",
     "output_type": "stream",
     "text": [
      "100%|██████████| 938/938 [00:33<00:00, 28.03it/s, kl=15.3, loss=48.8, nll=33.6]\n"
     ]
    },
    {
     "name": "stdout",
     "output_type": "stream",
     "text": [
      "[*] Epoch 17/20 completed\n"
     ]
    },
    {
     "name": "stderr",
     "output_type": "stream",
     "text": [
      "  1%|          | 5/938 [00:00<00:32, 28.86it/s, kl=16.7, loss=55.5, nll=38.8]"
     ]
    },
    {
     "name": "stdout",
     "output_type": "stream",
     "text": [
      "[*] Evaluated Loss:61.642721990111525, KL:17.5855652875961, NLL: 44.0571568968949\n",
      "[*] Posterior Mu -0.000993459252640605, Logv -2.8412675857543945\n",
      "[*] Prior Mu 0.007069308776408434, Logv -2.658137798309326\n"
     ]
    },
    {
     "name": "stderr",
     "output_type": "stream",
     "text": [
      "100%|██████████| 938/938 [00:35<00:00, 26.76it/s, kl=17, loss=54.5, nll=37.5]  \n"
     ]
    },
    {
     "name": "stdout",
     "output_type": "stream",
     "text": [
      "[*] Epoch 18/20 completed\n"
     ]
    },
    {
     "name": "stderr",
     "output_type": "stream",
     "text": [
      "  0%|          | 4/938 [00:00<00:37, 24.69it/s, kl=15.6, loss=50.9, nll=35.3]"
     ]
    },
    {
     "name": "stdout",
     "output_type": "stream",
     "text": [
      "[*] Evaluated Loss:61.239743858386, KL:17.39333049506898, NLL: 43.84641353339906\n",
      "[*] Posterior Mu 0.005622320342808962, Logv -2.830423593521118\n",
      "[*] Prior Mu -0.0005867776926606894, Logv -2.6820318698883057\n"
     ]
    },
    {
     "name": "stderr",
     "output_type": "stream",
     "text": [
      "100%|██████████| 938/938 [00:37<00:00, 24.72it/s, kl=16.2, loss=56.1, nll=39.9]\n"
     ]
    },
    {
     "name": "stdout",
     "output_type": "stream",
     "text": [
      "[*] Epoch 19/20 completed\n"
     ]
    },
    {
     "name": "stderr",
     "output_type": "stream",
     "text": [
      "  1%|          | 5/938 [00:00<00:35, 26.09it/s, kl=17, loss=51, nll=33.9]    "
     ]
    },
    {
     "name": "stdout",
     "output_type": "stream",
     "text": [
      "[*] Evaluated Loss:61.38818218449878, KL:17.651186736526004, NLL: 43.73699530826253\n",
      "[*] Posterior Mu 0.003837413853034377, Logv -2.901355266571045\n",
      "[*] Prior Mu 0.004327946808189154, Logv -2.7314155101776123\n"
     ]
    },
    {
     "name": "stderr",
     "output_type": "stream",
     "text": [
      "100%|██████████| 938/938 [00:37<00:00, 28.03it/s, kl=14.8, loss=47.5, nll=32.7]\n"
     ]
    },
    {
     "name": "stdout",
     "output_type": "stream",
     "text": [
      "[*] Epoch 20/20 completed\n",
      "[*] Evaluated Loss:61.42474795298971, KL:17.6686346576472, NLL: 43.75611323459893\n",
      "[*] Posterior Mu -0.0013723575975745916, Logv -2.9689409732818604\n",
      "[*] Prior Mu -0.0004366582725197077, Logv -2.8088366985321045\n",
      "Experiment name test_quadrant\n",
      "[*] Saved model in logs/test_quadrant\n"
     ]
    }
   ],
   "source": [
    "trainer.train()"
   ]
  },
  {
   "cell_type": "code",
   "execution_count": null,
   "metadata": {},
   "outputs": [],
   "source": [
    "conditions = cvae_trainer.quadrant_tl(test_data[0][:10])\n",
    "image_condition = tf_lib.utils.visualize_images(conditions * 255)\n",
    "plt.imshow(image_condition)"
   ]
  },
  {
   "cell_type": "code",
   "execution_count": null,
   "metadata": {},
   "outputs": [],
   "source": [
    "conditions = np.concatenate([conditions for i in range(10)], axis=0)\n",
    "logits = trainer.generate_samples(conditions) * 255\n",
    "image = tf_lib.utils.visualize_images(logits)\n",
    "plt.imshow(image)"
   ]
  }
 ],
 "metadata": {
  "kernelspec": {
   "display_name": "Python 3",
   "language": "python",
   "name": "python3"
  },
  "language_info": {
   "codemirror_mode": {
    "name": "ipython",
    "version": 3
   },
   "file_extension": ".py",
   "mimetype": "text/x-python",
   "name": "python",
   "nbconvert_exporter": "python",
   "pygments_lexer": "ipython3",
   "version": "3.7.2"
  }
 },
 "nbformat": 4,
 "nbformat_minor": 2
}
